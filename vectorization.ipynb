{
 "cells": [
  {
   "cell_type": "code",
   "execution_count": 1,
   "metadata": {},
   "outputs": [
    {
     "name": "stdout",
     "output_type": "stream",
     "text": [
      "[1 2 3 4]\n"
     ]
    }
   ],
   "source": [
    "import numpy as np\n",
    "\n",
    "a = np.array([1, 2, 3, 4])\n",
    "print(a)"
   ]
  },
  {
   "cell_type": "code",
   "execution_count": 50,
   "metadata": {},
   "outputs": [
    {
     "name": "stdout",
     "output_type": "stream",
     "text": [
      "numpy:12.752056\n",
      "[]:189.430952\n",
      "loop:336.066961\n"
     ]
    }
   ],
   "source": [
    "import time\n",
    "\n",
    "a = np.random.rand(1000000)\n",
    "b = np.random.rand(1000000)\n",
    "\n",
    "tic = time.time()\n",
    "c = np.dot(a, b)\n",
    "toc = time.time()\n",
    "print('numpy:{:.6f}'.format((toc - tic) * 1000))\n",
    "\n",
    "tic = time.time()\n",
    "c = [ai * bi for ai, bi in zip(a, b)]\n",
    "toc = time.time()\n",
    "print('[]:{:.6f}'.format((toc - tic) * 1000))\n",
    "\n",
    "tic = time.time()\n",
    "c = []\n",
    "for ai, bi in zip(a, b):\n",
    "    c.append(ai * bi)\n",
    "toc = time.time()\n",
    "print('loop:{:.6f}'.format((toc - tic) * 1000))"
   ]
  },
  {
   "cell_type": "code",
   "execution_count": 55,
   "metadata": {},
   "outputs": [
    {
     "name": "stdout",
     "output_type": "stream",
     "text": [
      "[[ 1.  0.  0.]\n",
      " [ 0.  1.  0.]\n",
      " [ 0.  0.  1.]] [ 1.  1.  1.] [ 1.  1.  1.]\n"
     ]
    }
   ],
   "source": [
    "A = np.eye(3)\n",
    "v = np.ones(3)\n",
    "print(A, v, np.dot(A, v)) # we eliminated 2 loops here"
   ]
  },
  {
   "cell_type": "code",
   "execution_count": 59,
   "metadata": {},
   "outputs": [
    {
     "data": {
      "text/plain": [
       "(array([ 2.71828183,  2.71828183,  2.71828183]),\n",
       " array([ 0.,  0.,  0.]),\n",
       " array([ 1.,  1.,  1.]))"
      ]
     },
     "execution_count": 59,
     "metadata": {},
     "output_type": "execute_result"
    }
   ],
   "source": [
    "np.exp(v), np.log(v), 1 / v"
   ]
  },
  {
   "cell_type": "markdown",
   "metadata": {},
   "source": [
    "### broadcasting"
   ]
  },
  {
   "cell_type": "code",
   "execution_count": 68,
   "metadata": {},
   "outputs": [
    {
     "name": "stdout",
     "output_type": "stream",
     "text": [
      "[[  56.     0.     4.4   68. ]\n",
      " [   1.2  104.    52.     8. ]\n",
      " [   1.8  135.    99.     0.9]]\n"
     ]
    }
   ],
   "source": [
    "A = np.array([[56.0, 0.0, 4.4, 68.0],\n",
    "              [1.2, 104.0, 52.0, 8.0],\n",
    "              [1.8, 135.0, 99.0, 0.9]])\n",
    "\n",
    "print(A)"
   ]
  },
  {
   "cell_type": "code",
   "execution_count": 69,
   "metadata": {},
   "outputs": [
    {
     "name": "stdout",
     "output_type": "stream",
     "text": [
      "530.3 530.3 [  59.   239.   155.4   76.9] [ 128.4  165.2  236.7]\n"
     ]
    }
   ],
   "source": [
    "cal = A.sum(axis=0)\n",
    "print(A.sum(), cal.sum(), A.sum(axis=0), A.sum(axis=1))"
   ]
  },
  {
   "cell_type": "code",
   "execution_count": 70,
   "metadata": {},
   "outputs": [
    {
     "data": {
      "text/plain": [
       "array([[  59. ,  239. ,  155.4,   76.9]])"
      ]
     },
     "execution_count": 70,
     "metadata": {},
     "output_type": "execute_result"
    }
   ],
   "source": [
    "cal.reshape(1,4)"
   ]
  },
  {
   "cell_type": "code",
   "execution_count": 72,
   "metadata": {},
   "outputs": [
    {
     "name": "stdout",
     "output_type": "stream",
     "text": [
      "[[ 0.94915254  0.          0.02831403  0.88426528]\n",
      " [ 0.02033898  0.43514644  0.33462033  0.10403121]\n",
      " [ 0.03050847  0.56485356  0.63706564  0.01170351]]\n"
     ]
    }
   ],
   "source": [
    "percentage = A / cal.reshape(1,4)\n",
    "print(percentage)"
   ]
  },
  {
   "cell_type": "code",
   "execution_count": 73,
   "metadata": {},
   "outputs": [
    {
     "data": {
      "text/plain": [
       "array([101, 102, 103, 104])"
      ]
     },
     "execution_count": 73,
     "metadata": {},
     "output_type": "execute_result"
    }
   ],
   "source": [
    "np.array([1, 2, 3, 4]) + 100"
   ]
  },
  {
   "cell_type": "code",
   "execution_count": 76,
   "metadata": {},
   "outputs": [
    {
     "name": "stdout",
     "output_type": "stream",
     "text": [
      "[[1 2 3]\n",
      " [4 5 6]] [100 200 300] [[101 202 303]\n",
      " [104 205 306]]\n"
     ]
    }
   ],
   "source": [
    "A = np.array([[1, 2, 3], \n",
    "          [4, 5, 6]])\n",
    "b = np.array([100, 200, 300])\n",
    "print(A, b, A + b)"
   ]
  },
  {
   "cell_type": "code",
   "execution_count": 90,
   "metadata": {},
   "outputs": [
    {
     "name": "stdout",
     "output_type": "stream",
     "text": [
      "[[101 102 103]\n",
      " [204 205 206]] (2, 3) (2, 1)\n"
     ]
    }
   ],
   "source": [
    "c = np.array([[100], [200]])\n",
    "print(A + c, A.shape, c.shape)"
   ]
  },
  {
   "cell_type": "markdown",
   "metadata": {},
   "source": [
    "### don't use 'rank 1' arrays"
   ]
  },
  {
   "cell_type": "code",
   "execution_count": 91,
   "metadata": {},
   "outputs": [
    {
     "name": "stdout",
     "output_type": "stream",
     "text": [
      "(5,) [-0.04592636 -0.96750623 -0.76178034  0.73884134  1.6061133 ] [-0.04592636 -0.96750623 -0.76178034  0.73884134  1.6061133 ] 4.64397330055\n"
     ]
    }
   ],
   "source": [
    "a = np.random.randn(5)\n",
    "print(a.shape, a, a.T, np.dot(a, a.T))"
   ]
  },
  {
   "cell_type": "code",
   "execution_count": 93,
   "metadata": {},
   "outputs": [
    {
     "name": "stdout",
     "output_type": "stream",
     "text": [
      "(5, 1)\n",
      "[[ 0.78697789]\n",
      " [-1.49533458]\n",
      " [-0.46836999]\n",
      " [-0.44529441]\n",
      " [-0.19537864]]\n",
      "[[ 0.78697789 -1.49533458 -0.46836999 -0.44529441 -0.19537864]]\n",
      "[[ 0.6193342  -1.17679525 -0.36859682 -0.35043686 -0.15375867]\n",
      " [-1.17679525  2.23602549  0.70036983  0.66586413  0.29215644]\n",
      " [-0.36859682  0.70036983  0.21937044  0.20856254  0.09150949]\n",
      " [-0.35043686  0.66586413  0.20856254  0.19828711  0.08700102]\n",
      " [-0.15375867  0.29215644  0.09150949  0.08700102  0.03817281]]\n"
     ]
    }
   ],
   "source": [
    "a = np.random.randn(5, 1) # column vector\n",
    "print(a.shape)\n",
    "print(a)\n",
    "print(a.T) # row vector\n",
    "print(np.dot(a, a.T))"
   ]
  },
  {
   "cell_type": "code",
   "execution_count": null,
   "metadata": {
    "collapsed": true
   },
   "outputs": [],
   "source": []
  },
  {
   "cell_type": "code",
   "execution_count": null,
   "metadata": {
    "collapsed": true
   },
   "outputs": [],
   "source": []
  },
  {
   "cell_type": "code",
   "execution_count": null,
   "metadata": {
    "collapsed": true
   },
   "outputs": [],
   "source": []
  },
  {
   "cell_type": "code",
   "execution_count": null,
   "metadata": {
    "collapsed": true
   },
   "outputs": [],
   "source": []
  },
  {
   "cell_type": "code",
   "execution_count": null,
   "metadata": {
    "collapsed": true
   },
   "outputs": [],
   "source": []
  },
  {
   "cell_type": "code",
   "execution_count": null,
   "metadata": {
    "collapsed": true
   },
   "outputs": [],
   "source": []
  },
  {
   "cell_type": "code",
   "execution_count": null,
   "metadata": {
    "collapsed": true
   },
   "outputs": [],
   "source": []
  },
  {
   "cell_type": "code",
   "execution_count": null,
   "metadata": {
    "collapsed": true
   },
   "outputs": [],
   "source": []
  },
  {
   "cell_type": "code",
   "execution_count": null,
   "metadata": {
    "collapsed": true
   },
   "outputs": [],
   "source": []
  }
 ],
 "metadata": {
  "kernelspec": {
   "display_name": "Python [default]",
   "language": "python",
   "name": "python3"
  },
  "language_info": {
   "codemirror_mode": {
    "name": "ipython",
    "version": 3
   },
   "file_extension": ".py",
   "mimetype": "text/x-python",
   "name": "python",
   "nbconvert_exporter": "python",
   "pygments_lexer": "ipython3",
   "version": "3.5.3"
  }
 },
 "nbformat": 4,
 "nbformat_minor": 2
}
